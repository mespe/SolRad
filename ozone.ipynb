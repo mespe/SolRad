{
 "cells": [
  {
   "cell_type": "code",
   "execution_count": 1,
   "metadata": {
    "collapsed": false
   },
   "outputs": [],
   "source": [
    "import matplotlib.pyplot as plt\n",
    "plt.style.use('ggplot')\n",
    "import numpy as np\n",
    "import pandas as pd\n",
    "import os\n",
    "import os.path\n"
   ]
  },
  {
   "cell_type": "code",
   "execution_count": 2,
   "metadata": {
    "collapsed": true
   },
   "outputs": [],
   "source": [
    "working_dir = os.getcwd()\n",
    "sub_dir = 'ozone'\n",
    "\n",
    "#path for each ozone file\n",
    "file_dir = os.path.join(working_dir, sub_dir)\n",
    "ozone_dir = [file_dir + \"/\" + filename for filename in os.listdir(file_dir)]"
   ]
  },
  {
   "cell_type": "code",
   "execution_count": 4,
   "metadata": {
    "collapsed": false
   },
   "outputs": [],
   "source": [
    "def create_df(path):\n",
    "    \"\"\"\n",
    "    Given the file path, it creates dataframe\n",
    "    Seperation in file must be \"|\"\n",
    "    \n",
    "    input: a file path\n",
    "    output: a data frame\n",
    "    \n",
    "    \"\"\"\n",
    "    #read in the file\n",
    "    ozone_hourly = pd.read_table(path, sep = '|')\n",
    "    \n",
    "    #pandas automatically skips the NaN values while taking the mean.\n",
    "    ozone_daily = pd.DataFrame(ozone_hourly.groupby(['site', 'date'])['obs'].mean())\n",
    "    ozone_daily.reset_index(inplace = True)\n",
    "    \n",
    "    return ozone_daily\n",
    "                   \n",
    "\n",
    "def convert_to_daily(data_directory):\n",
    "    \"\"\"\n",
    "    Given the data directory with hourly data,\n",
    "    it converts observations into daily data\n",
    "    \n",
    "    input: data directory for all files\n",
    "    output: one data frame for all files\n",
    "    \"\"\"\n",
    "    \n",
    "    for index, path in enumerate(data_directory):\n",
    "        \n",
    "        if index == 0:\n",
    "            ozone_daily = create_df(path)\n",
    "        else:\n",
    "            merge_to = create_df(path)\n",
    "            ozone_daily = ozone_daily.append(merge_to)\n",
    "    return ozone_daily\n",
    "            "
   ]
  },
  {
   "cell_type": "code",
   "execution_count": 5,
   "metadata": {
    "collapsed": false
   },
   "outputs": [],
   "source": [
    "ozone_daily = convert_to_daily(ozone_dir)"
   ]
  },
  {
   "cell_type": "markdown",
   "metadata": {},
   "source": [
    "Although these two sites are listed in the Location file they are not found in the 'ozone' \n",
    "data set. Check out, \"MSA name\" column in the Location.xlxs. I think they are not used\n",
    "for monitoring air quality parameters."
   ]
  },
  {
   "cell_type": "code",
   "execution_count": 24,
   "metadata": {
    "collapsed": false
   },
   "outputs": [
    {
     "data": {
      "text/plain": [
       "Series([], Name: site, dtype: int64)"
      ]
     },
     "execution_count": 24,
     "metadata": {},
     "output_type": "execute_result"
    }
   ],
   "source": [
    "ozone_daily['site'][ozone_daily['site'].isin([2778, 2783])]"
   ]
  },
  {
   "cell_type": "markdown",
   "metadata": {},
   "source": [
    "The number of unique sites in Location file is around 2100. However, as you can see below,\n",
    "this number is __485__ in the \"ozone\" data set."
   ]
  },
  {
   "cell_type": "code",
   "execution_count": 25,
   "metadata": {
    "collapsed": false
   },
   "outputs": [
    {
     "data": {
      "text/plain": [
       "485"
      ]
     },
     "execution_count": 25,
     "metadata": {},
     "output_type": "execute_result"
    }
   ],
   "source": [
    "len(ozone_daily['site'].unique())"
   ]
  },
  {
   "cell_type": "code",
   "execution_count": 39,
   "metadata": {
    "collapsed": false
   },
   "outputs": [],
   "source": [
    "#this was done once in the beginning to\n",
    "#save data set as \".csv\" file.\n",
    "#ozone_daily.to_csv('daily_ozone_obs_1980_2014.csv', sep = ',')"
   ]
  },
  {
   "cell_type": "code",
   "execution_count": 26,
   "metadata": {
    "collapsed": false
   },
   "outputs": [],
   "source": [
    "locations = pd.read_excel('Location.xlsx')"
   ]
  },
  {
   "cell_type": "code",
   "execution_count": 11,
   "metadata": {
    "collapsed": true
   },
   "outputs": [],
   "source": [
    "def get_county_site(locations, county = 'Colusa'):\n",
    "    \n",
    "    county_of_interest = (locations.set_index(['County Name', 'Site']).loc[county])\n",
    "    county_of_interest = county_of_interest.reset_index()\n",
    "    county_sites = county_of_interest['Site']\n",
    "    return county_sites"
   ]
  },
  {
   "cell_type": "code",
   "execution_count": 35,
   "metadata": {
    "collapsed": false
   },
   "outputs": [],
   "source": [
    "colusa_sites = get_county_site(locations).dropna()\n",
    "colusa_daily_ozone = ozone_daily[ozone_daily['site'].isin(colusa_sites)]\n",
    "colusa_daily_ozone = (colusa_daily_ozone.reset_index().\n",
    "                      drop('index', axis = 1))"
   ]
  },
  {
   "cell_type": "code",
   "execution_count": 38,
   "metadata": {
    "collapsed": false
   },
   "outputs": [],
   "source": [
    "#this also was done only once to save the output as csv file.\n",
    "colusa_daily_ozone.to_csv('colusa_daily_ozone_1980_2014.csv', sep = ',')"
   ]
  },
  {
   "cell_type": "code",
   "execution_count": 36,
   "metadata": {
    "collapsed": false
   },
   "outputs": [
    {
     "data": {
      "text/html": [
       "<div>\n",
       "<table border=\"1\" class=\"dataframe\">\n",
       "  <thead>\n",
       "    <tr style=\"text-align: right;\">\n",
       "      <th></th>\n",
       "      <th>site</th>\n",
       "      <th>date</th>\n",
       "      <th>obs</th>\n",
       "    </tr>\n",
       "  </thead>\n",
       "  <tbody>\n",
       "    <tr>\n",
       "      <th>0</th>\n",
       "      <td>2109</td>\n",
       "      <td>1980-09-12</td>\n",
       "      <td>0.047273</td>\n",
       "    </tr>\n",
       "    <tr>\n",
       "      <th>1</th>\n",
       "      <td>2109</td>\n",
       "      <td>1980-09-13</td>\n",
       "      <td>0.025833</td>\n",
       "    </tr>\n",
       "    <tr>\n",
       "      <th>2</th>\n",
       "      <td>2109</td>\n",
       "      <td>1980-09-14</td>\n",
       "      <td>0.030833</td>\n",
       "    </tr>\n",
       "    <tr>\n",
       "      <th>3</th>\n",
       "      <td>2109</td>\n",
       "      <td>1980-09-15</td>\n",
       "      <td>0.030417</td>\n",
       "    </tr>\n",
       "    <tr>\n",
       "      <th>4</th>\n",
       "      <td>2109</td>\n",
       "      <td>1980-09-16</td>\n",
       "      <td>0.042500</td>\n",
       "    </tr>\n",
       "  </tbody>\n",
       "</table>\n",
       "</div>"
      ],
      "text/plain": [
       "   site        date       obs\n",
       "0  2109  1980-09-12  0.047273\n",
       "1  2109  1980-09-13  0.025833\n",
       "2  2109  1980-09-14  0.030833\n",
       "3  2109  1980-09-15  0.030417\n",
       "4  2109  1980-09-16  0.042500"
      ]
     },
     "execution_count": 36,
     "metadata": {},
     "output_type": "execute_result"
    }
   ],
   "source": [
    "colusa_daily_ozone.head()"
   ]
  },
  {
   "cell_type": "code",
   "execution_count": 37,
   "metadata": {
    "collapsed": false
   },
   "outputs": [
    {
     "data": {
      "text/plain": [
       "array([2109, 2395, 2744])"
      ]
     },
     "execution_count": 37,
     "metadata": {},
     "output_type": "execute_result"
    }
   ],
   "source": [
    "colusa_daily_ozone['site'].unique()"
   ]
  },
  {
   "cell_type": "markdown",
   "metadata": {},
   "source": [
    "So, three \"Colusa\" sites have been constantly collecting \"ozone\" observations since 1980."
   ]
  }
 ],
 "metadata": {
  "anaconda-cloud": {},
  "kernelspec": {
   "display_name": "Python [Root]",
   "language": "python",
   "name": "Python [Root]"
  },
  "language_info": {
   "codemirror_mode": {
    "name": "ipython",
    "version": 3
   },
   "file_extension": ".py",
   "mimetype": "text/x-python",
   "name": "python",
   "nbconvert_exporter": "python",
   "pygments_lexer": "ipython3",
   "version": "3.5.2"
  }
 },
 "nbformat": 4,
 "nbformat_minor": 0
}
