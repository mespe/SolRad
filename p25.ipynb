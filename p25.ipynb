{
 "cells": [
  {
   "cell_type": "code",
   "execution_count": 80,
   "metadata": {
    "collapsed": false
   },
   "outputs": [],
   "source": [
    "import matplotlib.pyplot as plt\n",
    "plt.style.use('ggplot')\n",
    "import numpy as np\n",
    "import pandas as pd\n",
    "import os\n",
    "import os.path\n"
   ]
  },
  {
   "cell_type": "code",
   "execution_count": 81,
   "metadata": {
    "collapsed": false
   },
   "outputs": [],
   "source": [
    "working_dir = os.getcwd()\n",
    "sub_dir = 'pm25'\n",
    "\n",
    "#path for each pm file\n",
    "file_dir = os.path.join(working_dir, sub_dir)\n",
    "pm_dir = [file_dir + \"/\" + filename for filename in os.listdir(file_dir)]"
   ]
  },
  {
   "cell_type": "code",
   "execution_count": 88,
   "metadata": {
    "collapsed": false
   },
   "outputs": [
    {
     "name": "stdout",
     "output_type": "stream",
     "text": [
      "Index(['Site', 'Monitor', 'Date', 'StartHour', 'Value', 'AppliesToNatl',\n",
      "       'AppliesToSt', 'CollectionMethod', 'QuantificationMethod'],\n",
      "      dtype='object')\n"
     ]
    }
   ],
   "source": [
    "pm = pd.read_csv(pm_dir[0])\n",
    "print (pm.columns)\n",
    "\n",
    "#Delete unnessary columns: Monitor, StarHour, AppliesToNat1,\n",
    "#AppliesToSt, #CollectionMethod, #QuantificationMethod\n",
    "cols = pm.columns\n",
    "pm.drop(cols[[1, 3, 5, 6, 7, 8]], axis = 1, inplace=True)"
   ]
  },
  {
   "cell_type": "code",
   "execution_count": 83,
   "metadata": {
    "collapsed": true
   },
   "outputs": [],
   "source": [
    "locations = pd.read_excel('Location.xlsx')"
   ]
  },
  {
   "cell_type": "code",
   "execution_count": 84,
   "metadata": {
    "collapsed": true
   },
   "outputs": [],
   "source": [
    "def get_county_site(locations, county = 'Colusa'):\n",
    "    \"\"\"\n",
    "    Given locations DF it returns all sites\n",
    "    found in the input county.\n",
    "    Default county = 'Colusa'\n",
    "    \"\"\"\n",
    "    \n",
    "    county_of_interest = (locations.set_index(['County Name', 'Site']).loc[county])\n",
    "    county_of_interest = county_of_interest.reset_index()\n",
    "    county_sites = county_of_interest['Site']\n",
    "    return county_sites"
   ]
  },
  {
   "cell_type": "code",
   "execution_count": 89,
   "metadata": {
    "collapsed": false
   },
   "outputs": [],
   "source": [
    "colusa_sites = get_county_site(locations, 'Colusa')\n",
    "colusa_pm = pm[pm['Site'].isin(colusa_sites)]"
   ]
  },
  {
   "cell_type": "code",
   "execution_count": 90,
   "metadata": {
    "collapsed": true
   },
   "outputs": [],
   "source": [
    "#save the output\n",
    "#colusa_pm.to_csv('PM25_weekly_98_14', sep = \",\")"
   ]
  },
  {
   "cell_type": "markdown",
   "metadata": {},
   "source": [
    "Although these two sites are listed in the Location file they are not found in the 'pm' \n",
    "data set. Check out, \"MSA name\" column in the Location.xlxs. I think they are not used\n",
    "for monitoring air quality parameters."
   ]
  },
  {
   "cell_type": "markdown",
   "metadata": {},
   "source": [
    "The number of unique sites in Location file is around 2100. However, as you can see below,\n",
    "this number is __485__ in the \"pm\" data set."
   ]
  },
  {
   "cell_type": "code",
   "execution_count": null,
   "metadata": {
    "collapsed": true
   },
   "outputs": [],
   "source": []
  }
 ],
 "metadata": {
  "anaconda-cloud": {},
  "kernelspec": {
   "display_name": "Python [Root]",
   "language": "python",
   "name": "Python [Root]"
  },
  "language_info": {
   "codemirror_mode": {
    "name": "ipython",
    "version": 3
   },
   "file_extension": ".py",
   "mimetype": "text/x-python",
   "name": "python",
   "nbconvert_exporter": "python",
   "pygments_lexer": "ipython3",
   "version": "3.5.2"
  }
 },
 "nbformat": 4,
 "nbformat_minor": 0
}
